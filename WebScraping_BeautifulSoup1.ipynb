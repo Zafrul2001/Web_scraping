{
  "nbformat": 4,
  "nbformat_minor": 0,
  "metadata": {
    "colab": {
      "provenance": []
    },
    "kernelspec": {
      "name": "python3",
      "display_name": "Python 3"
    },
    "language_info": {
      "name": "python"
    }
  },
  "cells": [
    {
      "cell_type": "code",
      "execution_count": null,
      "metadata": {
        "colab": {
          "base_uri": "https://localhost:8080/"
        },
        "id": "DKCs-qW7Bh4o",
        "outputId": "675ce857-dd79-425a-fcae-31c247a2b07d"
      },
      "outputs": [
        {
          "output_type": "stream",
          "name": "stdout",
          "text": [
            "east india securities ltd.\n",
            "pythonhadoopmachine learning  \n"
          ]
        }
      ],
      "source": [
        "import bs4 as bs\n",
        "import requests as req\n",
        "html_txt=req.get('https://m.timesjobs.com/mobile/jobs-search-result.html?txtKeywords=Python%2C&cboWorkExp1=-1&txtLocation=').text\n",
        "soup=bs.BeautifulSoup(html_txt,'lxml')\n",
        "jobs_element= soup.find('li')\n",
        "job=jobs_element.find('div',class_='srp-listing clearfix')\n",
        "#print(job)\n",
        "company_name=job.find('span',class_='srp-comp-name')\n",
        "print(company_name.get_text(strip=True))\n",
        "skills_div=job.find('div',class_='srp-keyskills')\n",
        "print(skills_div.get_text(strip=True))\n",
        "\n",
        "\n",
        "\n",
        "\n",
        "\n",
        "\n"
      ]
    },
    {
      "cell_type": "code",
      "source": [
        "import bs4 as bs\n",
        "import requests as req\n",
        "\n",
        "# Fetch the HTML content\n",
        "html_txt = req.get('https://m.timesjobs.com/mobile/jobs-search-result.html?txtKeywords=Python%2C&cboWorkExp1=-1&txtLocation=').text\n",
        "soup = bs.BeautifulSoup(html_txt, 'lxml')\n",
        "\n",
        "# Find all job elements within <li> tags\n",
        "jobs_element = soup.find_all('li')\n",
        "\n",
        "# # List of numbers to check in posting time\n",
        "# num_list = ['1', '2', '3']\n",
        "# for element in jobs_element:\n",
        "#     print(element.prettify())\n",
        "# Loop through each job element\n",
        "for element in jobs_element:\n",
        "    # Find the posting time\n",
        "    posting_time = element.find('span', class_='posting-time')\n",
        "    if posting_time:\n",
        "        posting_time_text = posting_time.get_text(strip=True)\n",
        "        # Check if any number in num_list is in the posting time\n",
        "        if any(num in posting_time_text for num in num_list):\n",
        "            # Find and print the company name\n",
        "            company_name = element.find('span', class_='srp-comp-name')\n",
        "            if company_name:\n",
        "                print(\"Company Name:\", company_name.get_text(strip=True))\n",
        "\n",
        "            # Find and print the skills\n",
        "            skills_div = element.find('div', class_='srp-keyskills')\n",
        "            if skills_div:\n",
        "                print(\"Skills:\", skills_div.get_text(strip=True))"
      ],
      "metadata": {
        "id": "lGM3WTiNx6wo",
        "colab": {
          "base_uri": "https://localhost:8080/"
        },
        "outputId": "65b13562-d7bf-4061-f148-0a22e35a2332"
      },
      "execution_count": 2,
      "outputs": [
        {
          "output_type": "stream",
          "name": "stdout",
          "text": [
            "Company Name: LAKSH HUMAN RESOURCE\n",
            "Skills: restpythondjangogit\n",
            "Company Name: zenga tv\n",
            "Skills: pythondjangohtml5javascript\n",
            "Company Name: SEVEN CONSULTANCY\n",
            "Skills: restpythonstorage\n",
            "Company Name: east india securities ltd.\n",
            "Skills: pythonhadoopmachine learning\n",
            "Company Name: CONNECTING 2 WORK\n",
            "Skills: restpythondjangomongodb\n",
            "Company Name: INFINITY GROUP\n",
            "Skills: pythoncssdjangohtmlbootstrap\n",
            "Company Name: SEVEN CONSULTANCY\n",
            "Skills: pythonmvcsql\n",
            "Company Name: CGI Information Systems and Management Consultants Pvt Ltd\n",
            "Skills: python programmingdata analysissql / plsql knowledgesoftware developmenttest planningsecuritydatabasexmljsonapipl / sqloraclewindows\n",
            "Company Name: WBC Software Lab\n",
            "Skills: pythongitrest apilinuxmobilemongodbdocker\n",
            "Company Name: Advaiya Solutions Pvt Ltd\n",
            "Skills: restpythonajaxjavascriptdjangojavaxmljsonapiangularjs\n",
            "Company Name: DREAMAJAX TECHNOLOGIES\n",
            "Skills: pythondjangoapisqlnosql\n",
            "Company Name: Datagrid Solutions\n",
            "Skills: pythondatabasedjangomysqlapi\n"
          ]
        }
      ]
    }
  ]
}